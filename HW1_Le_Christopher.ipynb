{
  "nbformat": 4,
  "nbformat_minor": 0,
  "metadata": {
    "colab": {
      "name": "HW1_Le_Christopher",
      "provenance": [],
      "collapsed_sections": [],
      "include_colab_link": true
    },
    "kernelspec": {
      "name": "python3",
      "display_name": "Python 3"
    }
  },
  "cells": [
    {
      "cell_type": "markdown",
      "metadata": {
        "id": "view-in-github",
        "colab_type": "text"
      },
      "source": [
        "<a href=\"https://colab.research.google.com/github/ChrisHLe/Python-Practice/blob/main/HW1_Le_Christopher.ipynb\" target=\"_parent\"><img src=\"https://colab.research.google.com/assets/colab-badge.svg\" alt=\"Open In Colab\"/></a>"
      ]
    },
    {
      "cell_type": "markdown",
      "metadata": {
        "id": "hm8RAKinXsIP"
      },
      "source": [
        "## **Homework 1**\n",
        "\n",
        "### Create a copy of the notebook to start answering the questions. Name your notebook in the format HW1_lastname_firstname.ipynb to facilitate the grading process. \n",
        "\n",
        "### Answer all the questions, test your code to ensure there are no errors and the results are as expected. Once you have answered all the questions, save the final copy, then go to File-> click on Download.ipynb. Once the local copy has been downloaded, submit your file on Blackboard under the corresponding assignment section. Also provide us a link to your notebook during submission. \n",
        "\n",
        "### **The due date of this homework is 02/05/2021 (Friday).**\n",
        "\n",
        "### Please ensure you follow all the steps mentioned in the homework.\n",
        "\n",
        "### All the questions have a sample input and output to help you understand the question. Please note that your programs will be tested for other sets of inputs and outputs along with the sample provided. So test your code for other inputs.\n",
        "\n",
        "### You can submit your solutions any number of times until the deadline.\n"
      ]
    },
    {
      "cell_type": "markdown",
      "metadata": {
        "id": "uacFrEaZfcfq"
      },
      "source": [
        "##### Q1. Write a program that prompts the user to enter a password then prints the length of the password.\n",
        "\n",
        "```\n",
        "Enter your password: hello\n",
        "Your password is 5 long.\n",
        "```\n",
        "\n",
        "\n"
      ]
    },
    {
      "cell_type": "code",
      "metadata": {
        "id": "avPyES14ftCt",
        "colab": {
          "base_uri": "https://localhost:8080/"
        },
        "outputId": "5a75e95b-1be9-4862-faf0-3a27e4f08835"
      },
      "source": [
        "password = input(\"Enter your password: \")\n",
        "print(\"Your password is\",len(password),\"long.\")"
      ],
      "execution_count": null,
      "outputs": [
        {
          "output_type": "stream",
          "text": [
            "Enter your password: hello\n",
            "Your password is 5 long.\n"
          ],
          "name": "stdout"
        }
      ]
    },
    {
      "cell_type": "markdown",
      "metadata": {
        "id": "ekh-kABuItli"
      },
      "source": [
        ""
      ]
    },
    {
      "cell_type": "markdown",
      "metadata": {
        "id": "K1yko-xUItU3"
      },
      "source": [
        ""
      ]
    },
    {
      "cell_type": "markdown",
      "metadata": {
        "id": "behD0j_Of2TW"
      },
      "source": [
        "##### Q2. Write a program that prompts the user to enter their full name then prints the number of characters in their name (do not count spaces).\n",
        "\n",
        "```\n",
        "What is your name? Amulya Katti\n",
        "Amulya Katti your name has 11 characters.\n",
        "```"
      ]
    },
    {
      "cell_type": "code",
      "metadata": {
        "id": "XSdIRjwlhSlu",
        "colab": {
          "base_uri": "https://localhost:8080/"
        },
        "outputId": "b6c72766-f1cc-4c76-f40e-d67901a06c93"
      },
      "source": [
        "name = input(\"What is your name? \")\n",
        "if \" \" in name:\n",
        "  space= name.count(\" \")\n",
        "  print(name,\"your name has\",len(name)-space,\"characters\")\n",
        "else:\n",
        "    print(name,\"your name has\",len(name),\"characters\")\n"
      ],
      "execution_count": null,
      "outputs": [
        {
          "output_type": "stream",
          "text": [
            "What is your name? Amulya Katti\n",
            "Amulya Katti your name has 11 characters\n"
          ],
          "name": "stdout"
        }
      ]
    },
    {
      "cell_type": "markdown",
      "metadata": {
        "id": "5KHOWF6FhVHV"
      },
      "source": [
        "##### Q3. Write a program that prompts the user to enter a month (as a number), then prints the name of the month and the number of days in that month. Ensure that the user inputs a valid month and handle any error cases.\n",
        "\n",
        "```\n",
        "Enter the month number: 9\n",
        "September has 30 days\n",
        "```"
      ]
    },
    {
      "cell_type": "code",
      "metadata": {
        "id": "KhS-SAEThyTG",
        "colab": {
          "base_uri": "https://localhost:8080/"
        },
        "outputId": "7c83d9de-7483-461c-94fc-5f945d26c771"
      },
      "source": [
        "monthnum = int(input(\"Enter the month number \"))\n",
        "thirtyone = {1:\"January\",\n",
        "             3:\"March\",\n",
        "             5:\"May\",\n",
        "             7:\"July\",\n",
        "             8:\"August\",\n",
        "             10:\"October\",\n",
        "             12:\"December\"}\n",
        "thirty = {4:\"April\",\n",
        "          6:\"June\",\n",
        "          9:\"September\",\n",
        "          11:\"November\"}\n",
        "feb = {2:\"February\"}\n",
        "start = True\n",
        "while start == True:\n",
        "  if monthnum in thirtyone:\n",
        "    print(thirtyone[monthnum],\"has 31 days\")\n",
        "    start = False\n",
        "  elif monthnum in thirty:\n",
        "    print(thirty[monthnum],\"has 30 days\")\n",
        "    start = False\n",
        "  elif monthnum in feb:\n",
        "    print(feb[monthnum],\"has 28 days (29 in leap years)\")\n",
        "    start= False\n",
        "  else:\n",
        "    print(\"Invalid input try again\")\n",
        "    monthnum = int(input(\"Enter the month number \"))\n",
        "\n"
      ],
      "execution_count": null,
      "outputs": [
        {
          "output_type": "stream",
          "text": [
            "Enter the month number 9\n",
            "September has 30 days\n"
          ],
          "name": "stdout"
        }
      ]
    },
    {
      "cell_type": "markdown",
      "metadata": {
        "id": "O7lnAdGlh6Xa"
      },
      "source": [
        "##### Q4. Write a program that prompts the user to enter a loan amount, annual interest rate, and number of years  for a car loan. Then calculate and print the monthly payment amount.\n",
        "\n",
        "Note:\n",
        "```\n",
        "PMT= [PV*i*((1+i)^n)]/((1+i)^n)-1\n",
        "```\n",
        "PMT is the monthly payment\n",
        "\n",
        "PV is the loan amount\n",
        "\n",
        "i is the interest rate per month in decimal form (interest rate percentage divided by 12)\n",
        "\n",
        "n is the number of months (term of the loan in months)\n",
        "\n",
        "```\n",
        "Loan Amount: 30000.00\n",
        "Annual Interest Rate: 4.00\n",
        "Years: 5\n",
        "Your monthly payment is: $552.50\n",
        "```"
      ]
    },
    {
      "cell_type": "code",
      "metadata": {
        "id": "p4B5JH5GiTs9",
        "colab": {
          "base_uri": "https://localhost:8080/"
        },
        "outputId": "919ebcf7-30b2-43ea-d9fe-5a540308ba30"
      },
      "source": [
        "loan= input(\"Loan Amount: \")\n",
        "interest = input(\"Annual Interest Rate: \")\n",
        "years = input(\"Years: \")\n",
        "months = float(years)*12\n",
        "interestpercent = (float(interest)/100)/12\n",
        "loan = float(loan)\n",
        "PMT = ((loan*interestpercent)*((1+interestpercent)**int(months)))/(((1+interestpercent)**int(months))-1)\n",
        "print(\"Your monthly payment is: $\"+str(round(PMT,2)))\n"
      ],
      "execution_count": null,
      "outputs": [
        {
          "output_type": "stream",
          "text": [
            "Loan Amount: 30000.00\n",
            "Annual Interest Rate: 4.00\n",
            "Years: 5\n",
            "Your monthly payment is: $552.5\n"
          ],
          "name": "stdout"
        }
      ]
    },
    {
      "cell_type": "markdown",
      "metadata": {
        "id": "SjiolJKgiWV-"
      },
      "source": [
        "[link text](https://)##### Q5. Write a program to that prompts the user to enter a string. Then check whether or not the string is a palindrome.\n",
        "\n",
        "```\n",
        "Enter a string: Madam\n",
        "Madam, is a palindrome!\n",
        "```"
      ]
    },
    {
      "cell_type": "code",
      "metadata": {
        "id": "F5_M934Ri0es",
        "colab": {
          "base_uri": "https://localhost:8080/"
        },
        "outputId": "a0eca998-898f-4d01-f4fc-f4354d014d1d"
      },
      "source": [
        "string = input(\"Enter a string: \")\n",
        "stringlist = []\n",
        "newstring = []\n",
        "length = len(string)-1\n",
        "palcheck = \"\"\n",
        "for i in string:\n",
        "  stringlist.append(i)\n",
        "for i in stringlist:\n",
        "  newstring.append(stringlist[length])\n",
        "  length=length-1\n",
        "for i in newstring:\n",
        "  palcheck+=i\n",
        "if palcheck.lower() == string.lower():\n",
        "  print(string+\" is a palindrome!\")\n",
        "else:\n",
        "  print(string+\" is not a palindrome\")\n",
        "\n"
      ],
      "execution_count": null,
      "outputs": [
        {
          "output_type": "stream",
          "text": [
            "Enter a string: Madam\n",
            "Madam is a palindrome!\n"
          ],
          "name": "stdout"
        }
      ]
    },
    {
      "cell_type": "markdown",
      "metadata": {
        "id": "BLBD6n9vkJEu"
      },
      "source": [
        "##### Q6. Write a program to compute and print all possible combinations of change for \\$1. Denominations to be considered – quarter, dime, nickel, penny.\n",
        "\n",
        "Hint: Use nested loops (loops within loops for the various denominations of coins)\n",
        "\n",
        "```\n",
        "Change for $1:\n",
        "0 quarters, 0 dimes, 0 nickels, 100 pennies\n",
        "…\n",
        "4 quarters, 0 dimes, 0 nickels, 0 pennies\n",
        "```"
      ]
    },
    {
      "cell_type": "code",
      "metadata": {
        "id": "kAQsTjwDkZZ5",
        "colab": {
          "base_uri": "https://localhost:8080/"
        },
        "outputId": "ee825080-5cb9-47df-978f-cb414c94f96d"
      },
      "source": [
        "print(\"Change for $1\")\n",
        "#quarter = 25\n",
        "#quartercount = 4\n",
        "\n",
        "#dime = 10\n",
        "#dimecount = 10\n",
        "\n",
        "#nickel = 5\n",
        "#nickelcount= 20\n",
        "\n",
        "#penny = 1\n",
        "#pennycount = 100\n",
        "#dollar =100\n",
        "#total = 0\n",
        "#while dollar != 0:\n",
        "  #while quartercount >0: \n",
        "    #while dimecount >0:\n",
        "      #while nickelcount >0:\n",
        "        #while pennycount >0:\n",
        "          #if dollar !=0:\n",
        "            #print(quartercount,\"quarters\",dimecount,\"dimes\",nickelcount,\"nickels\",pennycount,\"pennies\")\n",
        "            #dollar = dollar-(pennycount*penny + nickelcount*nickel+dimecount*dime+quartercount*quarter)\n",
        "            #pennycount-=1\n",
        "            #print(dollar)\n",
        "\n",
        "for q in range(0,5):\n",
        "  for d in range(0,11):\n",
        "    for n in range(0,21):\n",
        "      for p in range(0,101):\n",
        "        if (q*25+d*10+n*5+p==100):\n",
        "          print(q,\"quarters\",d,\"dimes\",n,\"nickels\",p,\"pennies\")\n",
        "   \n",
        "    \n",
        "        \n",
        "\n",
        "\n"
      ],
      "execution_count": null,
      "outputs": [
        {
          "output_type": "stream",
          "text": [
            "Change for $1\n",
            "0 quarters 0 dimes 0 nickels 100 pennies\n",
            "0 quarters 0 dimes 1 nickels 95 pennies\n",
            "0 quarters 0 dimes 2 nickels 90 pennies\n",
            "0 quarters 0 dimes 3 nickels 85 pennies\n",
            "0 quarters 0 dimes 4 nickels 80 pennies\n",
            "0 quarters 0 dimes 5 nickels 75 pennies\n",
            "0 quarters 0 dimes 6 nickels 70 pennies\n",
            "0 quarters 0 dimes 7 nickels 65 pennies\n",
            "0 quarters 0 dimes 8 nickels 60 pennies\n",
            "0 quarters 0 dimes 9 nickels 55 pennies\n",
            "0 quarters 0 dimes 10 nickels 50 pennies\n",
            "0 quarters 0 dimes 11 nickels 45 pennies\n",
            "0 quarters 0 dimes 12 nickels 40 pennies\n",
            "0 quarters 0 dimes 13 nickels 35 pennies\n",
            "0 quarters 0 dimes 14 nickels 30 pennies\n",
            "0 quarters 0 dimes 15 nickels 25 pennies\n",
            "0 quarters 0 dimes 16 nickels 20 pennies\n",
            "0 quarters 0 dimes 17 nickels 15 pennies\n",
            "0 quarters 0 dimes 18 nickels 10 pennies\n",
            "0 quarters 0 dimes 19 nickels 5 pennies\n",
            "0 quarters 0 dimes 20 nickels 0 pennies\n",
            "0 quarters 1 dimes 0 nickels 90 pennies\n",
            "0 quarters 1 dimes 1 nickels 85 pennies\n",
            "0 quarters 1 dimes 2 nickels 80 pennies\n",
            "0 quarters 1 dimes 3 nickels 75 pennies\n",
            "0 quarters 1 dimes 4 nickels 70 pennies\n",
            "0 quarters 1 dimes 5 nickels 65 pennies\n",
            "0 quarters 1 dimes 6 nickels 60 pennies\n",
            "0 quarters 1 dimes 7 nickels 55 pennies\n",
            "0 quarters 1 dimes 8 nickels 50 pennies\n",
            "0 quarters 1 dimes 9 nickels 45 pennies\n",
            "0 quarters 1 dimes 10 nickels 40 pennies\n",
            "0 quarters 1 dimes 11 nickels 35 pennies\n",
            "0 quarters 1 dimes 12 nickels 30 pennies\n",
            "0 quarters 1 dimes 13 nickels 25 pennies\n",
            "0 quarters 1 dimes 14 nickels 20 pennies\n",
            "0 quarters 1 dimes 15 nickels 15 pennies\n",
            "0 quarters 1 dimes 16 nickels 10 pennies\n",
            "0 quarters 1 dimes 17 nickels 5 pennies\n",
            "0 quarters 1 dimes 18 nickels 0 pennies\n",
            "0 quarters 2 dimes 0 nickels 80 pennies\n",
            "0 quarters 2 dimes 1 nickels 75 pennies\n",
            "0 quarters 2 dimes 2 nickels 70 pennies\n",
            "0 quarters 2 dimes 3 nickels 65 pennies\n",
            "0 quarters 2 dimes 4 nickels 60 pennies\n",
            "0 quarters 2 dimes 5 nickels 55 pennies\n",
            "0 quarters 2 dimes 6 nickels 50 pennies\n",
            "0 quarters 2 dimes 7 nickels 45 pennies\n",
            "0 quarters 2 dimes 8 nickels 40 pennies\n",
            "0 quarters 2 dimes 9 nickels 35 pennies\n",
            "0 quarters 2 dimes 10 nickels 30 pennies\n",
            "0 quarters 2 dimes 11 nickels 25 pennies\n",
            "0 quarters 2 dimes 12 nickels 20 pennies\n",
            "0 quarters 2 dimes 13 nickels 15 pennies\n",
            "0 quarters 2 dimes 14 nickels 10 pennies\n",
            "0 quarters 2 dimes 15 nickels 5 pennies\n",
            "0 quarters 2 dimes 16 nickels 0 pennies\n",
            "0 quarters 3 dimes 0 nickels 70 pennies\n",
            "0 quarters 3 dimes 1 nickels 65 pennies\n",
            "0 quarters 3 dimes 2 nickels 60 pennies\n",
            "0 quarters 3 dimes 3 nickels 55 pennies\n",
            "0 quarters 3 dimes 4 nickels 50 pennies\n",
            "0 quarters 3 dimes 5 nickels 45 pennies\n",
            "0 quarters 3 dimes 6 nickels 40 pennies\n",
            "0 quarters 3 dimes 7 nickels 35 pennies\n",
            "0 quarters 3 dimes 8 nickels 30 pennies\n",
            "0 quarters 3 dimes 9 nickels 25 pennies\n",
            "0 quarters 3 dimes 10 nickels 20 pennies\n",
            "0 quarters 3 dimes 11 nickels 15 pennies\n",
            "0 quarters 3 dimes 12 nickels 10 pennies\n",
            "0 quarters 3 dimes 13 nickels 5 pennies\n",
            "0 quarters 3 dimes 14 nickels 0 pennies\n",
            "0 quarters 4 dimes 0 nickels 60 pennies\n",
            "0 quarters 4 dimes 1 nickels 55 pennies\n",
            "0 quarters 4 dimes 2 nickels 50 pennies\n",
            "0 quarters 4 dimes 3 nickels 45 pennies\n",
            "0 quarters 4 dimes 4 nickels 40 pennies\n",
            "0 quarters 4 dimes 5 nickels 35 pennies\n",
            "0 quarters 4 dimes 6 nickels 30 pennies\n",
            "0 quarters 4 dimes 7 nickels 25 pennies\n",
            "0 quarters 4 dimes 8 nickels 20 pennies\n",
            "0 quarters 4 dimes 9 nickels 15 pennies\n",
            "0 quarters 4 dimes 10 nickels 10 pennies\n",
            "0 quarters 4 dimes 11 nickels 5 pennies\n",
            "0 quarters 4 dimes 12 nickels 0 pennies\n",
            "0 quarters 5 dimes 0 nickels 50 pennies\n",
            "0 quarters 5 dimes 1 nickels 45 pennies\n",
            "0 quarters 5 dimes 2 nickels 40 pennies\n",
            "0 quarters 5 dimes 3 nickels 35 pennies\n",
            "0 quarters 5 dimes 4 nickels 30 pennies\n",
            "0 quarters 5 dimes 5 nickels 25 pennies\n",
            "0 quarters 5 dimes 6 nickels 20 pennies\n",
            "0 quarters 5 dimes 7 nickels 15 pennies\n",
            "0 quarters 5 dimes 8 nickels 10 pennies\n",
            "0 quarters 5 dimes 9 nickels 5 pennies\n",
            "0 quarters 5 dimes 10 nickels 0 pennies\n",
            "0 quarters 6 dimes 0 nickels 40 pennies\n",
            "0 quarters 6 dimes 1 nickels 35 pennies\n",
            "0 quarters 6 dimes 2 nickels 30 pennies\n",
            "0 quarters 6 dimes 3 nickels 25 pennies\n",
            "0 quarters 6 dimes 4 nickels 20 pennies\n",
            "0 quarters 6 dimes 5 nickels 15 pennies\n",
            "0 quarters 6 dimes 6 nickels 10 pennies\n",
            "0 quarters 6 dimes 7 nickels 5 pennies\n",
            "0 quarters 6 dimes 8 nickels 0 pennies\n",
            "0 quarters 7 dimes 0 nickels 30 pennies\n",
            "0 quarters 7 dimes 1 nickels 25 pennies\n",
            "0 quarters 7 dimes 2 nickels 20 pennies\n",
            "0 quarters 7 dimes 3 nickels 15 pennies\n",
            "0 quarters 7 dimes 4 nickels 10 pennies\n",
            "0 quarters 7 dimes 5 nickels 5 pennies\n",
            "0 quarters 7 dimes 6 nickels 0 pennies\n",
            "0 quarters 8 dimes 0 nickels 20 pennies\n",
            "0 quarters 8 dimes 1 nickels 15 pennies\n",
            "0 quarters 8 dimes 2 nickels 10 pennies\n",
            "0 quarters 8 dimes 3 nickels 5 pennies\n",
            "0 quarters 8 dimes 4 nickels 0 pennies\n",
            "0 quarters 9 dimes 0 nickels 10 pennies\n",
            "0 quarters 9 dimes 1 nickels 5 pennies\n",
            "0 quarters 9 dimes 2 nickels 0 pennies\n",
            "0 quarters 10 dimes 0 nickels 0 pennies\n",
            "1 quarters 0 dimes 0 nickels 75 pennies\n",
            "1 quarters 0 dimes 1 nickels 70 pennies\n",
            "1 quarters 0 dimes 2 nickels 65 pennies\n",
            "1 quarters 0 dimes 3 nickels 60 pennies\n",
            "1 quarters 0 dimes 4 nickels 55 pennies\n",
            "1 quarters 0 dimes 5 nickels 50 pennies\n",
            "1 quarters 0 dimes 6 nickels 45 pennies\n",
            "1 quarters 0 dimes 7 nickels 40 pennies\n",
            "1 quarters 0 dimes 8 nickels 35 pennies\n",
            "1 quarters 0 dimes 9 nickels 30 pennies\n",
            "1 quarters 0 dimes 10 nickels 25 pennies\n",
            "1 quarters 0 dimes 11 nickels 20 pennies\n",
            "1 quarters 0 dimes 12 nickels 15 pennies\n",
            "1 quarters 0 dimes 13 nickels 10 pennies\n",
            "1 quarters 0 dimes 14 nickels 5 pennies\n",
            "1 quarters 0 dimes 15 nickels 0 pennies\n",
            "1 quarters 1 dimes 0 nickels 65 pennies\n",
            "1 quarters 1 dimes 1 nickels 60 pennies\n",
            "1 quarters 1 dimes 2 nickels 55 pennies\n",
            "1 quarters 1 dimes 3 nickels 50 pennies\n",
            "1 quarters 1 dimes 4 nickels 45 pennies\n",
            "1 quarters 1 dimes 5 nickels 40 pennies\n",
            "1 quarters 1 dimes 6 nickels 35 pennies\n",
            "1 quarters 1 dimes 7 nickels 30 pennies\n",
            "1 quarters 1 dimes 8 nickels 25 pennies\n",
            "1 quarters 1 dimes 9 nickels 20 pennies\n",
            "1 quarters 1 dimes 10 nickels 15 pennies\n",
            "1 quarters 1 dimes 11 nickels 10 pennies\n",
            "1 quarters 1 dimes 12 nickels 5 pennies\n",
            "1 quarters 1 dimes 13 nickels 0 pennies\n",
            "1 quarters 2 dimes 0 nickels 55 pennies\n",
            "1 quarters 2 dimes 1 nickels 50 pennies\n",
            "1 quarters 2 dimes 2 nickels 45 pennies\n",
            "1 quarters 2 dimes 3 nickels 40 pennies\n",
            "1 quarters 2 dimes 4 nickels 35 pennies\n",
            "1 quarters 2 dimes 5 nickels 30 pennies\n",
            "1 quarters 2 dimes 6 nickels 25 pennies\n",
            "1 quarters 2 dimes 7 nickels 20 pennies\n",
            "1 quarters 2 dimes 8 nickels 15 pennies\n",
            "1 quarters 2 dimes 9 nickels 10 pennies\n",
            "1 quarters 2 dimes 10 nickels 5 pennies\n",
            "1 quarters 2 dimes 11 nickels 0 pennies\n",
            "1 quarters 3 dimes 0 nickels 45 pennies\n",
            "1 quarters 3 dimes 1 nickels 40 pennies\n",
            "1 quarters 3 dimes 2 nickels 35 pennies\n",
            "1 quarters 3 dimes 3 nickels 30 pennies\n",
            "1 quarters 3 dimes 4 nickels 25 pennies\n",
            "1 quarters 3 dimes 5 nickels 20 pennies\n",
            "1 quarters 3 dimes 6 nickels 15 pennies\n",
            "1 quarters 3 dimes 7 nickels 10 pennies\n",
            "1 quarters 3 dimes 8 nickels 5 pennies\n",
            "1 quarters 3 dimes 9 nickels 0 pennies\n",
            "1 quarters 4 dimes 0 nickels 35 pennies\n",
            "1 quarters 4 dimes 1 nickels 30 pennies\n",
            "1 quarters 4 dimes 2 nickels 25 pennies\n",
            "1 quarters 4 dimes 3 nickels 20 pennies\n",
            "1 quarters 4 dimes 4 nickels 15 pennies\n",
            "1 quarters 4 dimes 5 nickels 10 pennies\n",
            "1 quarters 4 dimes 6 nickels 5 pennies\n",
            "1 quarters 4 dimes 7 nickels 0 pennies\n",
            "1 quarters 5 dimes 0 nickels 25 pennies\n",
            "1 quarters 5 dimes 1 nickels 20 pennies\n",
            "1 quarters 5 dimes 2 nickels 15 pennies\n",
            "1 quarters 5 dimes 3 nickels 10 pennies\n",
            "1 quarters 5 dimes 4 nickels 5 pennies\n",
            "1 quarters 5 dimes 5 nickels 0 pennies\n",
            "1 quarters 6 dimes 0 nickels 15 pennies\n",
            "1 quarters 6 dimes 1 nickels 10 pennies\n",
            "1 quarters 6 dimes 2 nickels 5 pennies\n",
            "1 quarters 6 dimes 3 nickels 0 pennies\n",
            "1 quarters 7 dimes 0 nickels 5 pennies\n",
            "1 quarters 7 dimes 1 nickels 0 pennies\n",
            "2 quarters 0 dimes 0 nickels 50 pennies\n",
            "2 quarters 0 dimes 1 nickels 45 pennies\n",
            "2 quarters 0 dimes 2 nickels 40 pennies\n",
            "2 quarters 0 dimes 3 nickels 35 pennies\n",
            "2 quarters 0 dimes 4 nickels 30 pennies\n",
            "2 quarters 0 dimes 5 nickels 25 pennies\n",
            "2 quarters 0 dimes 6 nickels 20 pennies\n",
            "2 quarters 0 dimes 7 nickels 15 pennies\n",
            "2 quarters 0 dimes 8 nickels 10 pennies\n",
            "2 quarters 0 dimes 9 nickels 5 pennies\n",
            "2 quarters 0 dimes 10 nickels 0 pennies\n",
            "2 quarters 1 dimes 0 nickels 40 pennies\n",
            "2 quarters 1 dimes 1 nickels 35 pennies\n",
            "2 quarters 1 dimes 2 nickels 30 pennies\n",
            "2 quarters 1 dimes 3 nickels 25 pennies\n",
            "2 quarters 1 dimes 4 nickels 20 pennies\n",
            "2 quarters 1 dimes 5 nickels 15 pennies\n",
            "2 quarters 1 dimes 6 nickels 10 pennies\n",
            "2 quarters 1 dimes 7 nickels 5 pennies\n",
            "2 quarters 1 dimes 8 nickels 0 pennies\n",
            "2 quarters 2 dimes 0 nickels 30 pennies\n",
            "2 quarters 2 dimes 1 nickels 25 pennies\n",
            "2 quarters 2 dimes 2 nickels 20 pennies\n",
            "2 quarters 2 dimes 3 nickels 15 pennies\n",
            "2 quarters 2 dimes 4 nickels 10 pennies\n",
            "2 quarters 2 dimes 5 nickels 5 pennies\n",
            "2 quarters 2 dimes 6 nickels 0 pennies\n",
            "2 quarters 3 dimes 0 nickels 20 pennies\n",
            "2 quarters 3 dimes 1 nickels 15 pennies\n",
            "2 quarters 3 dimes 2 nickels 10 pennies\n",
            "2 quarters 3 dimes 3 nickels 5 pennies\n",
            "2 quarters 3 dimes 4 nickels 0 pennies\n",
            "2 quarters 4 dimes 0 nickels 10 pennies\n",
            "2 quarters 4 dimes 1 nickels 5 pennies\n",
            "2 quarters 4 dimes 2 nickels 0 pennies\n",
            "2 quarters 5 dimes 0 nickels 0 pennies\n",
            "3 quarters 0 dimes 0 nickels 25 pennies\n",
            "3 quarters 0 dimes 1 nickels 20 pennies\n",
            "3 quarters 0 dimes 2 nickels 15 pennies\n",
            "3 quarters 0 dimes 3 nickels 10 pennies\n",
            "3 quarters 0 dimes 4 nickels 5 pennies\n",
            "3 quarters 0 dimes 5 nickels 0 pennies\n",
            "3 quarters 1 dimes 0 nickels 15 pennies\n",
            "3 quarters 1 dimes 1 nickels 10 pennies\n",
            "3 quarters 1 dimes 2 nickels 5 pennies\n",
            "3 quarters 1 dimes 3 nickels 0 pennies\n",
            "3 quarters 2 dimes 0 nickels 5 pennies\n",
            "3 quarters 2 dimes 1 nickels 0 pennies\n",
            "4 quarters 0 dimes 0 nickels 0 pennies\n"
          ],
          "name": "stdout"
        }
      ]
    },
    {
      "cell_type": "markdown",
      "metadata": {
        "id": "rUPDjYiIkbgs"
      },
      "source": [
        "##### Q7. Ask the user to enter two positive integers between 1 and 100. Read those integers. Then output a multiplication table of the first number times the second number. \n",
        "\n",
        "Note: You have to ensure the entered numbers are between 1 and 100 only.\n",
        "\n",
        "```\n",
        "Please enter an integer: 5\n",
        "Please enter another integer: 20\n",
        "5 x 1 = 5\n",
        "5 x 2 = 10\n",
        "5 x 3 = 15\n",
        "…\n",
        "5 x 20 = 100\n",
        "```"
      ]
    },
    {
      "cell_type": "code",
      "metadata": {
        "id": "Qg0Orv1klHzA",
        "colab": {
          "base_uri": "https://localhost:8080/"
        },
        "outputId": "a54bdf22-b059-416d-8edd-5c43e31c9aa5"
      },
      "source": [
        "int1 = input(\"Please enter an integer between 1-100:\")\n",
        "while int(int1) > 100 or int(int1) <1:\n",
        "  print(\"Sorry your number was out of range\")\n",
        "  int1 = input(\"Please enter an integer between 1-100:\")\n",
        "int2 = input(\"Please enter another integer between 1-100:\")\n",
        "while int(int2) > 100 or int(int2) <1:\n",
        "  print(\"Sorry your number was out of range\")\n",
        "  int2 = input(\"Please enter an integer between 1-100:\")\n",
        "countcheck = 1\n",
        "int2 = int(int2)\n",
        "int1 = int(int1)\n",
        "while countcheck <= int2:\n",
        "  mult = countcheck*int1\n",
        "  print(int1,\"x\",countcheck,\"=\",mult)\n",
        "  countcheck+=1"
      ],
      "execution_count": null,
      "outputs": [
        {
          "output_type": "stream",
          "text": [
            "Please enter an integer between 1-100:12\n",
            "Please enter another integer between 1-100:999999\n",
            "Sorry your number was out of range\n",
            "Please enter an integer between 1-100:999999\n",
            "Sorry your number was out of range\n",
            "Please enter an integer between 1-100:999999\n",
            "Sorry your number was out of range\n",
            "Please enter an integer between 1-100:1\n",
            "12 x 1 = 12\n"
          ],
          "name": "stdout"
        }
      ]
    },
    {
      "cell_type": "markdown",
      "metadata": {
        "id": "SbnbPUPTlLD9"
      },
      "source": [
        "*italicized text*##### Q8. Write a program to ask the user to enter a password. Then check to see if it is a valid password based on these requirements -\n",
        "\n",
        "Must be at least 8 characters long\n",
        "\n",
        "Must contain both uppercase and lowercase letters\n",
        "\n",
        "Must contain at least one number between 0-9\n",
        "\n",
        "Must contain a special character -!,@,#,$\n",
        "\n",
        "If the password is not valid, ask the user to re-enter. This should continue until the user enters a valid password. After a valid password is entered, print Access Granted!\n",
        "\n",
        "```\n",
        "Please enter a password. Follow these requirements - \n",
        "a. Must be at least 8 characters long\n",
        "b. Must contain both uppercase and lowercase letters\n",
        "c. Must contain at least one number between 0-9\n",
        "d. Must contain a special character -!,@,#,$\n",
        "Password: HelloWorld1\n",
        "Invalid password. Try again!\n",
        "Password: Hello@World1\n",
        "Access Granted!\n",
        "```\n"
      ]
    },
    {
      "cell_type": "code",
      "metadata": {
        "id": "OXmZ177Rl-RV",
        "colab": {
          "base_uri": "https://localhost:8080/"
        },
        "outputId": "99ddc8ba-cdb2-4836-f087-061bb503907c"
      },
      "source": [
        "print(\"Please enter a password. Follow these requirements - \\na. Must be at least 8 characters long\")\n",
        "print(\"b. Must contain both uppercase and lowercase letters\\nc. Must contain at least one number between 0-9\")\n",
        "print(\"d. Must contain a special character -!,@,#,$\")\n",
        "password = input()\n",
        "number = False\n",
        "lengthcheck = False\n",
        "specialcheck = False\n",
        "uppercheck = 0\n",
        "lowercheck = 0\n",
        "speciallist = [\"!\",\"@\",\"#\",\"$\"]\n",
        "while lengthcheck == False and number == False and specialcheck == False and uppercheck == 0 and lowercheck == 0:\n",
        "  if len(password)>=8:\n",
        "    lengthcheck = True\n",
        "  for i in password:\n",
        "    if i.isdigit():\n",
        "      number = True\n",
        "    else:\n",
        "      lengthcheck = False\n",
        "  for i in password:\n",
        "    if i in speciallist:\n",
        "      specialcheck = True\n",
        "    else:\n",
        "      number = False\n",
        "      lengthcheck = False\n",
        "  for i in password:\n",
        "    if i.isupper():\n",
        "      uppercheck +=1\n",
        "  if uppercheck == 0:\n",
        "    lengthcheck = False\n",
        "    number = False\n",
        "    specialcheck = False\n",
        "  for i in password:\n",
        "    if i.islower():\n",
        "      lowercheck +=1\n",
        "  if lowercheck == 0:\n",
        "    lengthcheck = False\n",
        "    number = False\n",
        "    specialcheck = False\n",
        "    uppercheck = 0\n",
        "  if lengthcheck == False or number == False or specialcheck == False or uppercheck == 0 or lowercheck == 0:\n",
        "    password = input(\"Invalid Password Try Again \\nPassword:\")\n",
        "print(\"Access Granted\")\n",
        "\n"
      ],
      "execution_count": null,
      "outputs": [
        {
          "output_type": "stream",
          "text": [
            "Please enter a password. Follow these requirements - \n",
            "a. Must be at least 8 characters long\n",
            "b. Must contain both uppercase and lowercase letters\n",
            "c. Must contain at least one number between 0-9\n",
            "d. Must contain a special character -!,@,#,$\n",
            "PooPoo213412\n",
            "Invalid Password Try Again \n",
            "Password:pooapereaP212@\n",
            "Access Granted\n"
          ],
          "name": "stdout"
        }
      ]
    },
    {
      "cell_type": "markdown",
      "metadata": {
        "id": "-0sdutTDnTKA"
      },
      "source": [
        "##### Q9. Given the score sheet of participants in a competition, you are required to find the runner-up score. You are given scores in a list. Find the score of the runner-up.\n",
        "\n",
        "```\n",
        "list1 - [2, 3, 6, 6, 5]\n",
        "runner_up - 5\n",
        "\n",
        "list2 - [1, 7, 5, 3, 10, 4, 5, 5, 6, 11]\n",
        "runner_up - 10\n",
        "```"
      ]
    },
    {
      "cell_type": "code",
      "metadata": {
        "id": "12YP9OaqpGRK",
        "colab": {
          "base_uri": "https://localhost:8080/"
        },
        "outputId": "f8141071-d6d1-4aef-b934-d8682550ae89"
      },
      "source": [
        "count = 0\n",
        "list =[]\n",
        "number = 0\n",
        "while count <10:\n",
        "  number=input(\"Enter 10 random digits: \")\n",
        "  list.append(int(number))\n",
        "  count+=1\n",
        "print(\"Here is your list\",list)\n",
        "list.remove(max(list))\n",
        "number = max(list)\n",
        "(\"The runner up is\",number)\n"
      ],
      "execution_count": null,
      "outputs": [
        {
          "output_type": "stream",
          "text": [
            "Enter 10 random digits: 13\n",
            "Enter 10 random digits: 45\n",
            "Enter 10 random digits: 1\n",
            "Enter 10 random digits: 23\n",
            "Enter 10 random digits: 5\n",
            "Enter 10 random digits: 8\n",
            "Enter 10 random digits: 53\n",
            "Enter 10 random digits: 2\n",
            "Enter 10 random digits: 4\n",
            "Enter 10 random digits: 1\n",
            "Here is your list [13, 45, 1, 23, 5, 8, 53, 2, 4, 1]\n"
          ],
          "name": "stdout"
        },
        {
          "output_type": "execute_result",
          "data": {
            "text/plain": [
              "('The runner up is', 45)"
            ]
          },
          "metadata": {
            "tags": []
          },
          "execution_count": 31
        }
      ]
    }
  ]
}